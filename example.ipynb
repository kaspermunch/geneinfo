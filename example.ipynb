{
 "cells": [
  {
   "cell_type": "code",
   "execution_count": 1,
   "metadata": {},
   "outputs": [
    {
     "name": "stderr",
     "output_type": "stream",
     "text": [
      "/Users/kmt/anaconda3/envs/simons/lib/python3.6/site-packages/statsmodels/tools/_testing.py:19: FutureWarning: pandas.util.testing is deprecated. Use the functions in the public API at pandas.testing instead.\n",
      "  import pandas.util.testing as tm\n"
     ]
    }
   ],
   "source": [
    "import matplotlib.pyplot as plt\n",
    "from IPython.display import set_matplotlib_formats\n",
    "set_matplotlib_formats('retina', 'png')\n",
    "\n",
    "import numpy as np\n",
    "\n",
    "import seaborn as sns\n",
    "sns.set_style('white')\n",
    "\n",
    "import mpld3\n",
    "\n",
    "import mygene\n",
    "from geneinfo import geneinfo, geneplot, connect_mygene\n",
    "\n",
    "mg = mygene.MyGeneInfo()\n",
    "connect_mygene(mg)"
   ]
  },
  {
   "cell_type": "markdown",
   "metadata": {},
   "source": [
    "## Single gene name"
   ]
  },
  {
   "cell_type": "code",
   "execution_count": 2,
   "metadata": {},
   "outputs": [
    {
     "data": {
      "text/markdown": [
       "**Symbol:** **_USP4_** (protein-coding) &nbsp; &nbsp; &nbsp; &nbsp; **Aliases:** UNP, Unph  \n",
       "*ubiquitin specific peptidase 4*  \n",
       "**Summary:** The protein encoded by this gene is a protease that deubiquitinates target proteins such as ADORA2A and TRIM21. The encoded protein shuttles between the nucleus and cytoplasm and is involved in maintaining operational fidelity in the endoplasmic reticulum. Three transcript variants encoding different isoforms have been found for this gene. [provided by RefSeq, Oct 2011].  \n",
       "**Genomic position:** 3:49277144-49340712 (hg38), 3:49315264-49378145 (hg19)  \n",
       "[Gene card](https://www.genecards.org/cgi-bin/carddisp.pl?gene=USP4)  \n",
       "\n",
       "\n",
       " ----"
      ],
      "text/plain": [
       "<IPython.core.display.Markdown object>"
      ]
     },
     "metadata": {},
     "output_type": "display_data"
    }
   ],
   "source": [
    "geneinfo('USP4')"
   ]
  },
  {
   "cell_type": "markdown",
   "metadata": {},
   "source": [
    "## List of names"
   ]
  },
  {
   "cell_type": "code",
   "execution_count": 3,
   "metadata": {},
   "outputs": [
    {
     "data": {
      "text/markdown": [
       "**Symbol:** **_LARS2_** (protein-coding) &nbsp; &nbsp; &nbsp; &nbsp; **Aliases:** HLASA, LEURS, PRLTS4, mtLeuRS  \n",
       "*leucyl-tRNA synthetase 2, mitochondrial*  \n",
       "**Summary:** This gene encodes a class 1 aminoacyl-tRNA synthetase, mitochondrial leucyl-tRNA synthetase. Each of the twenty aminoacyl-tRNA synthetases catalyzes the aminoacylation of a specific tRNA or tRNA isoaccepting family with the cognate amino acid. [provided by RefSeq, Jul 2008].  \n",
       "**Genomic position:** 3:45388561-45554726 (hg38), 3:45429998-45590913 (hg19)  \n",
       "[Gene card](https://www.genecards.org/cgi-bin/carddisp.pl?gene=LARS2)  \n",
       "\n",
       "\n",
       " ----"
      ],
      "text/plain": [
       "<IPython.core.display.Markdown object>"
      ]
     },
     "metadata": {},
     "output_type": "display_data"
    },
    {
     "data": {
      "text/markdown": [
       "**Symbol:** **_XCR1_** (protein-coding) &nbsp; &nbsp; &nbsp; &nbsp; **Aliases:** CCXCR1, GPR5  \n",
       "*X-C motif chemokine receptor 1*  \n",
       "**Summary:** The protein encoded by this gene is a chemokine receptor belonging to the G protein-coupled receptor superfamily. The family members are characterized by the presence of 7 transmembrane domains and numerous conserved amino acids. This receptor is most closely related to RBS11 and the MIP1-alpha/RANTES receptor. It transduces a signal by increasing the intracellular calcium ions level. The viral macrophage inflammatory protein-II is an antagonist of this receptor and blocks signaling. Several alternatively spliced transcript variants encoding the same protein have been found for this gene. [provided by RefSeq, Apr 2020].  \n",
       "**Genomic position:** 3:46017024-46027742 (hg38), 3:46058516-46069234 (hg19)  \n",
       "[Gene card](https://www.genecards.org/cgi-bin/carddisp.pl?gene=XCR1)  \n",
       "\n",
       "\n",
       " ----"
      ],
      "text/plain": [
       "<IPython.core.display.Markdown object>"
      ]
     },
     "metadata": {},
     "output_type": "display_data"
    }
   ],
   "source": [
    "geneinfo(['LARS2', 'XCR1'])"
   ]
  },
  {
   "cell_type": "markdown",
   "metadata": {},
   "source": [
    "## Get all protein coding genes in a (hg38) region"
   ]
  },
  {
   "cell_type": "code",
   "execution_count": 4,
   "metadata": {},
   "outputs": [
    {
     "name": "stdout",
     "output_type": "stream",
     "text": [
      "Fetching 4 gene(s) . . .\n"
     ]
    },
    {
     "data": {
      "text/markdown": [
       "**Symbol:** **_AC078994.1_**   \n",
       "**Genomic position:** 2:49888868-49888986 (hg38), 2:50116006-50116124 (hg19)  \n",
       "[Gene card](https://www.genecards.org/cgi-bin/carddisp.pl?gene=AC078994.1)  \n",
       "\n",
       "\n",
       " ----"
      ],
      "text/plain": [
       "<IPython.core.display.Markdown object>"
      ]
     },
     "metadata": {},
     "output_type": "display_data"
    },
    {
     "data": {
      "text/markdown": [
       "**Symbol:** **_NRXN1_** (protein-coding) &nbsp; &nbsp; &nbsp; &nbsp; **Aliases:** Hs.22998, PTHSL2, SCZD17  \n",
       "*neurexin 1*  \n",
       "**Summary:** This gene encodes a single-pass type I membrane protein that belongs to the neurexin family. Neurexins are cell-surface receptors that bind neuroligins to form Ca(2+)-dependent neurexin/neuroligin complexes at synapses in the central nervous system. This complex is required for efficient neurotransmission and is involved in the formation of synaptic contacts. Three members of this gene family have been studied in detail and are estimated to generate over 3,000 variants through the use of two alternative promoters (alpha and beta) and extensive alternative splicing in each family member. Recently, a third promoter (gamma) was identified for this gene in the 3' region. Mutations in this gene are associated with Pitt-Hopkins-like syndrome-2 and may contribute to susceptibility to schizophrenia. [provided by RefSeq, Aug 2016].  \n",
       "**Genomic position:** 2:49918503-51225575 (hg38), 2:50145643-51259674 (hg19)  \n",
       "[Gene card](https://www.genecards.org/cgi-bin/carddisp.pl?gene=NRXN1)  \n",
       "\n",
       "\n",
       " ----"
      ],
      "text/plain": [
       "<IPython.core.display.Markdown object>"
      ]
     },
     "metadata": {},
     "output_type": "display_data"
    },
    {
     "data": {
      "text/markdown": [
       "**Symbol:** **_AC009971.1_**   \n",
       "[Gene card](https://www.genecards.org/cgi-bin/carddisp.pl?gene=AC009971.1)  \n",
       "\n",
       "\n",
       " ----"
      ],
      "text/plain": [
       "<IPython.core.display.Markdown object>"
      ]
     },
     "metadata": {},
     "output_type": "display_data"
    },
    {
     "data": {
      "text/markdown": [
       "**Symbol:** **_RPL7P13_**   \n",
       "*ribosomal protein L7 pseudogene 13*  \n",
       "**Genomic position:** 2:49878623-49879363 (hg38), 2:50105761-50106501 (hg19)  \n",
       "[Gene card](https://www.genecards.org/cgi-bin/carddisp.pl?gene=RPL7P13)  \n",
       "\n",
       "\n",
       " ----"
      ],
      "text/plain": [
       "<IPython.core.display.Markdown object>"
      ]
     },
     "metadata": {},
     "output_type": "display_data"
    }
   ],
   "source": [
    "for gene in mg.query('q=chr2:49500000-50000000 AND type_of_gene:protein-coding', species='human', fetch_all=True):\n",
    "    geneinfo(gene['symbol'])"
   ]
  },
  {
   "cell_type": "markdown",
   "metadata": {},
   "source": [
    "## Plot data over gene annotation"
   ]
  },
  {
   "cell_type": "code",
   "execution_count": null,
   "metadata": {},
   "outputs": [
    {
     "name": "stdout",
     "output_type": "stream",
     "text": [
      "Fetching 61 gene(s) . . .\n"
     ]
    }
   ],
   "source": [
    "chrom, start, end = 'chr3', 49500000, 50600000\n",
    "ax = geneplot(chrom, start, end, figsize=(10, 5))\n",
    "\n",
    "ax.plot(np.linspace(start, end, 1000), np.random.random(1000), 'o') ;\n",
    "\n",
    "mpld3.display()"
   ]
  },
  {
   "cell_type": "code",
   "execution_count": 6,
   "metadata": {},
   "outputs": [
    {
     "data": {
      "text/markdown": [
       "**Symbol:** **_HYAL3_** (protein-coding) &nbsp; &nbsp; &nbsp; &nbsp; **Aliases:** HYAL-3, LUCA-3, LUCA3  \n",
       "*hyaluronidase 3*  \n",
       "**Summary:** This gene encodes a member of the hyaluronidase family. Hyaluronidases are endoglycosidase enzymes that degrade hyaluronan, one of the major glycosaminoglycans of the extracellular matrix. The regulated turnover of hyaluronan plays a critical role in many biological processes including cell proliferation, migration and differentiation. The encoded protein may also play an important role in sperm function. This gene is one of several related genes in a region of chromosome 3p21.3 associated with tumor suppression, and the expression of specific transcript variants may be indicative of tumor status. Alternatively spliced transcript variants encoding multiple isoforms have been observed for this gene, and some isoforms may lack hyaluronidase activity. This gene overlaps and is on the same strand as N-acetyltransferase 6 (GCN5-related), and some transcripts of each gene share a portion of the first exon. [provided by RefSeq, Jan 2011].  \n",
       "**Genomic position:** 3:50292831-50299405 (hg38), 3:50330262-50336899, HG325_PATCH:50330263-50336900 (hg19)  \n",
       "[Gene card](https://www.genecards.org/cgi-bin/carddisp.pl?gene=HYAL3)  \n",
       "\n",
       "\n",
       " ----"
      ],
      "text/plain": [
       "<IPython.core.display.Markdown object>"
      ]
     },
     "metadata": {},
     "output_type": "display_data"
    },
    {
     "data": {
      "text/markdown": [
       "**Symbol:** **_IFRD2_** (protein-coding) &nbsp; &nbsp; &nbsp; &nbsp; **Aliases:** IFNRP, SKMc15, SM15  \n",
       "*interferon related developmental regulator 2*  \n",
       "**Genomic position:** 3:50287732-50292918 (hg38), 3:50325163-50330349, HG325_PATCH:50325164-50330027, HG325_PATCH:50325175-50330350 (hg19)  \n",
       "[Gene card](https://www.genecards.org/cgi-bin/carddisp.pl?gene=IFRD2)  \n",
       "\n",
       "\n",
       " ----"
      ],
      "text/plain": [
       "<IPython.core.display.Markdown object>"
      ]
     },
     "metadata": {},
     "output_type": "display_data"
    }
   ],
   "source": [
    "geneinfo(['HYAL3', 'IFRD2'])"
   ]
  },
  {
   "cell_type": "code",
   "execution_count": null,
   "metadata": {},
   "outputs": [],
   "source": []
  }
 ],
 "metadata": {
  "kernelspec": {
   "display_name": "Python 3",
   "language": "python",
   "name": "python3"
  },
  "language_info": {
   "codemirror_mode": {
    "name": "ipython",
    "version": 3
   },
   "file_extension": ".py",
   "mimetype": "text/x-python",
   "name": "python",
   "nbconvert_exporter": "python",
   "pygments_lexer": "ipython3",
   "version": "3.6.9"
  }
 },
 "nbformat": 4,
 "nbformat_minor": 4
}
